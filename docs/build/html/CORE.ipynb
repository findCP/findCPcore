{
 "cells": [
  {
   "cell_type": "markdown",
   "metadata": {},
   "source": [
    "## 1. findCPcore\n"
   ]
  },
  {
   "cell_type": "markdown",
   "metadata": {},
   "source": [
    "### Import core modules\n",
    "\n",
    "In order to use **findCPcore** library you have to import the following core modules."
   ]
  },
  {
   "cell_type": "code",
   "execution_count": 1,
   "metadata": {},
   "outputs": [],
   "source": [
    "import sys\n",
    "\n",
    "from findCPcore import CobraMetabolicModel"
   ]
  },
  {
   "cell_type": "markdown",
   "metadata": {},
   "source": [
    "### Read metabolic model\n",
    "\n",
    "Read input metabolic model in [Systems Biology Markup Language (SBML)](http://sbml.org) format. SBML is a XML-based standard for systems biology model's exchange.\n",
    "\n",
    "Allowed files formats are:\n",
    "* xml\n",
    "* json\n",
    "* yml"
   ]
  },
  {
   "cell_type": "code",
   "execution_count": 2,
   "metadata": {},
   "outputs": [],
   "source": [
    "model = CobraMetabolicModel(\"aureus.xml\")"
   ]
  },
  {
   "cell_type": "markdown",
   "metadata": {},
   "source": [
    "### Get model info\n"
   ]
  },
  {
   "cell_type": "markdown",
   "metadata": {},
   "source": [
    "The following methods allow to print on the command line data from the model."
   ]
  },
  {
   "cell_type": "markdown",
   "metadata": {},
   "source": [
    "#### Model info\n"
   ]
  },
  {
   "cell_type": "code",
   "execution_count": 3,
   "metadata": {},
   "outputs": [
    {
     "name": "stdout",
     "output_type": "stream",
     "text": [
      "MODEL INFO\n",
      "-------------------------------------------------------\n",
      "MODEL:  MODEL1507180070\n",
      "REACTIONS:  743\n",
      "METABOLITES:  655\n",
      "GENES:  619\n",
      "COMPARTMENTS:  c\n",
      "               e\n",
      "\n"
     ]
    }
   ],
   "source": [
    "model.print_model_info()"
   ]
  },
  {
   "cell_type": "markdown",
   "metadata": {},
   "source": [
    "#### Metabolites\n"
   ]
  },
  {
   "cell_type": "code",
   "execution_count": 4,
   "metadata": {
    "scrolled": false
   },
   "outputs": [
    {
     "name": "stdout",
     "output_type": "stream",
     "text": [
      "MODEL:  MODEL1507180070  - NUMBER OF METABOLITES:  655\n",
      "METABOLITE  |  COMPARTMENT      |  REACTION ID\n",
      "-------------------------------------------------------\n",
      "10fthf_c    |  c                |  biomass_SA_7a\n",
      "            |                   |  biomass_SA_8a\n",
      "            |                   |  FTHFL\n",
      "            |                   |  biomass_SA_7b\n",
      "            |                   |  MTHFC\n",
      "            |                   |  AICART\n",
      "            |                   |  GARFT\n",
      "12dgr_EC_c  |  c                |  biomass_SA_2a\n",
      "            |                   |  biomass_SA_2b\n",
      "            |                   |  biomass_SA_3b\n",
      "            |                   |  biomass_SA_lipids_only\n",
      "            |            "
     ]
    },
    {
     "data": {
      "text/html": [
       "* * *"
      ]
     },
     "metadata": {},
     "output_type": "display_data"
    }
   ],
   "source": [
    "model.print_metabolites()"
   ]
  },
  {
   "cell_type": "markdown",
   "metadata": {},
   "source": [
    "#### Reactions\n"
   ]
  },
  {
   "cell_type": "code",
   "execution_count": 5,
   "metadata": {},
   "outputs": [
    {
     "name": "stdout",
     "output_type": "stream",
     "text": [
      "MODEL:  MODEL1507180070  - NUMBER OF REACTIONS:  743\n",
      "REACTION ID | UPPER BOUND | LOWER BOUND | REACTION\n",
      "-------------------------------------------------------\n",
      "3M2OBLOXRD  |   999999.0  |  -999999.0  |  3mob_c + h_c + lpam_c <=> 2mpdhl_c + co2_c\n",
      "3M2OPLOXRD  |   999999.0  |  -999999.0  |  3mop_c + h_c + lpam_c <=> 2mbdhl_c + co2_c\n",
      "4M2OPLOXRD  |   999999.0  |  -999999.0  |  4mop_c + h_c + lpam_c <=> 3mbdhl_c + co2_c\n",
      "6PGALSZ     |   999999.0  |  0.0        |  h2o_c + lac6p_c --> dgal6p_c + glc_DASH_D_c\n",
      "6PHBG       |   999999.0  |  0.0        |  h2o_c + salc6p_c --> 2hymeph_c + g6p_c\n",
      "ABTAr       |   999999.0  |  0.0        |  4abut_c + akg_c --> glu_DASH_L_c + sucsal_c\n",
      "ACACT1r     |   999999.0  "
     ]
    },
    {
     "data": {
      "text/html": [
       "* * *"
      ]
     },
     "metadata": {},
     "output_type": "display_data"
    }
   ],
   "source": [
    "model.print_reactions()"
   ]
  },
  {
   "cell_type": "markdown",
   "metadata": {},
   "source": [
    "#### Genes\n"
   ]
  },
  {
   "cell_type": "code",
   "execution_count": 6,
   "metadata": {},
   "outputs": [
    {
     "name": "stdout",
     "output_type": "stream",
     "text": [
      "MODEL:  MODEL1507180070  - NUMBER OF GENES:  619\n",
      "GENE ID     |  GENE NAME   |  REACTION ID |  GPR RELATION\n",
      "-------------------------------------------------------\n",
      "SA0008      |  SA0008      |  HISDr       |  SA0008         \n",
      "SA0009      |  SA0009      |  SERTRS      |  SA0009         \n",
      "SA0011      |  SA0011      |  HSERTA      |  SA0011         \n",
      "SA0016      |  SA0016      |  ADSS        |  SA0016         \n",
      "SA0036      |  SA0036      |  GPDDA2      |  SA0036 or SA0820 or SA1542 or SA0969 or SA0220\n",
      "            |              |  GPDDA5      |  SA0036 or SA0820 or SA1542 or SA0969 or SA0220\n",
      "            |              |  GPDDA3      |  SA0036 or SA0820 or SA1542 or SA0969 or SA0220\n",
      "            |    "
     ]
    },
    {
     "data": {
      "text/html": [
       "* * *"
      ]
     },
     "metadata": {},
     "output_type": "display_data"
    }
   ],
   "source": [
    "model.print_genes()"
   ]
  },
  {
   "cell_type": "markdown",
   "metadata": {},
   "source": [
    "### Dead-end metabolites\n",
    "\n",
    "[Dead-end metabolites](https://journals.plos.org/plosone/article?id=10.1371/journal.pone.0075210) are those metabolites which are not consumed or not produced by any reaction of a given compartment of the model including exchange reactions."
   ]
  },
  {
   "cell_type": "markdown",
   "metadata": {},
   "source": [
    "#### Finding Dead-end metabolites\n",
    "\n",
    "Dead-end metabolites of the model are calculated with the method ```find_dem()```. The method ```dem()``` returns a python [dict](https://docs.python.org/2/tutorial/datastructures.html#dictionaries) with the following content:   \n",
    "- **key**: string with compartment name.   \n",
    "- **value**: list with [cobra.core.metabolites](https://cobrapy.readthedocs.io/en/latest/getting_started.html#Metabolites)."
   ]
  },
  {
   "cell_type": "code",
   "execution_count": 7,
   "metadata": {
    "scrolled": false
   },
   "outputs": [
    {
     "data": {
      "text/plain": [
       "{'c': [<Metabolite 2pglyc_c at 0x7fe3dae1c110>,\n",
       "  <Metabolite adcobdam_c at 0x7fe3dae4e190>,\n",
       "  <Metabolite 2ombz_c at 0x7fe42cece250>,\n",
       "  <Metabolite fdxox_c at 0x7fe40fdde750>,\n",
       "  <Metabolite nop_c at 0x7fe40fd90910>,\n",
       "  <Metabolite acmama_c at 0x7fe3dae48950>,\n",
       "  <Metabolite adprib_c at 0x7fe3dae4e950>,\n",
       "  <Metabolite DGDG_SA_c at 0x7fe3dae42990>,\n",
       "  <Metabolite udcp_c at 0x7fe40fd3cb10>,\n",
       "  <Metabolite Sptmyn_c at 0x7fe3dae42b50>,\n",
       "  <Metabolite mhpglu_c at 0x7fe40fd86b50>,\n",
       "  <Metabolite 12dgr_EC_c at 0x7fe3dae24b90>,\n",
       "  <Metabolite o2s_c at 0x7fe40fd90bd0>,\n",
       "  <Metabolite Stmyn_c at 0x7fe3dae42bd0>,\n",
       "  <Metabolite drib_c at 0x7fe40fdd2c50>,\n",
       "  <Metabolite mi1p_DASH_D_c at 0x7fe40fd86c50>,\n",
       "  <Metabol"
      ]
     },
     "execution_count": 7,
     "metadata": {},
     "output_type": "execute_result"
    },
    {
     "data": {
      "text/html": [
       "* * *"
      ]
     },
     "metadata": {},
     "output_type": "display_data"
    }
   ],
   "source": [
    "model.find_dem()\n",
    "model.dem()"
   ]
  },
  {
   "cell_type": "markdown",
   "metadata": {},
   "source": [
    "Dead-end metabolites can be printed on the command line with ```print_dem()``` method."
   ]
  },
  {
   "cell_type": "code",
   "execution_count": 8,
   "metadata": {},
   "outputs": [
    {
     "name": "stdout",
     "output_type": "stream",
     "text": [
      "MODEL:  MODEL1507180070  - NUMBER OF DEM:  2  - COMPARTMENT:  ALL\n",
      "METABOLITE  |  COMPARTMENT      |  REACTION ID\n",
      "-------------------------------------------------------\n",
      "2pglyc_c    |  c                |  PGLYCP\n",
      "adcobdam_c  |  c                |  ADCYRS\n",
      "2ombz_c     |  c                |  URFGTT\n",
      "fdxox_c     |  c                |  OOR3r\n",
      "nop_c       |  c                |  NOPD\n",
      "acmama_c    |  c                |  AMAA\n",
      "adprib_c    |  c                |  ADPRDP\n",
      "DGDG_SA_c   |  c                |  biomass_SA_lipids_only\n",
      "            |                   |  biomass_SA_2a\n",
      "udcp_c      |  c                |  UDCPKr\n",
      "Sptmyn_c    |  c                |  Spt3AdT\n",
      "mhpglu_c    |  c                |  MHPGLUT\n",
      "12dgr_E"
     ]
    },
    {
     "data": {
      "text/html": [
       "* * *"
      ]
     },
     "metadata": {},
     "output_type": "display_data"
    }
   ],
   "source": [
    "model.print_dem()"
   ]
  },
  {
   "cell_type": "markdown",
   "metadata": {},
   "source": [
    "Dead-end metabolites printed can be limited to a specific compartment. Avaible compartments are given by ```model.compartments()``` method."
   ]
  },
  {
   "cell_type": "code",
   "execution_count": 9,
   "metadata": {},
   "outputs": [
    {
     "name": "stdout",
     "output_type": "stream",
     "text": [
      "MODEL:  MODEL1507180070  - NUMBER OF DEM:  2  - COMPARTMENT:  e\n",
      "METABOLITE  |  COMPARTMENT      |  REACTION ID\n",
      "-------------------------------------------------------\n",
      "nh4_e       |  e                |  NH4t4\n",
      "            |                   |  EX_nh4_e\n",
      "lcts_e      |  e                |  LACpts\n",
      "            |                   |  EX_lcts_e\n",
      "mnl_e       |  e                |  EX_mnl_e\n",
      "            |                   |  MNLpts\n",
      "man_e       |  e                |  EX_man_e\n",
      "            |                   |  MANpts\n",
      "mobd_e      |  e                |  MOBDabc\n",
      "            |                   |  EX_mobd_e\n",
      "ni2_e       |  e                |  NIabc\n",
      "            |                   |  EX_ni2_e\n",
      "gua_e       |  e"
     ]
    },
    {
     "data": {
      "text/html": [
       "* * *"
      ]
     },
     "metadata": {},
     "output_type": "display_data"
    }
   ],
   "source": [
    "model.print_dem(compartment=\"e\")"
   ]
  },
  {
   "cell_type": "markdown",
   "metadata": {},
   "source": [
    "#### Removing dead-end metabolites\n",
    "\n",
    "Method ```remove_dem()``` removes dead-end metabolites from the model. Once dead-end metabolites are deleted, some reactions might not produce a metabolite anymore so the method deletes also these reactions and loops again until no dead-end metabolite is found:\n",
    "\n",
    "```\n",
    "while number of metabolites doesnt change:\n",
    "    delete all dead-end metabolites\n",
    "    for reaction that produced or consumed dead-end metabolites:\n",
    "        if reaction produces or consumes 0 metabolites [and is not exchange nor demand]: \n",
    "            delete reaction\n",
    "    find dead-end metabolites\n",
    "```\n",
    "\n",
    "The reactions that are deleted on the method can be modified by the following params: \n",
    "<ul>\n",
    "<li> **delete_exchange** :   \n",
    "     <ul> \n",
    "         <li> **True** : all the reactions that are produce or consume 0 metabolites are deleted whether they are exchange/demand or not. </li>    \n",
    "         <li> **False** : (default) deleted according to 'keep_all_incomplete_reactions' param. </li>\n",
    "     </ul>\n",
    "</li>\n",
    "<li> **keep_all_incomplete_reactions** :\n",
    "     <ul>\n",
    "        <li> **False**: if a reactions is a [cobra boundary reaction](https://cobrapy.readthedocs.io/en/latest/media.html#Boundary-reactions) (calculated by heuristics) that reaction can't be deleted. </li> \n",
    "        <li> **True**: (default) if a reaction initially doesn't produce or consume any metabolite that reaction can't be deleted. </li>\n",
    "     </ul>\n",
    "</li>\n",
    "</ul>"
   ]
  },
  {
   "cell_type": "code",
   "execution_count": null,
   "metadata": {},
   "outputs": [],
   "source": [
    "print(\"Metabolites: \", len(model.metabolites()), \"\\nReactions: \", len(model.reactions()))\n"
   ]
  },
  {
   "cell_type": "code",
   "execution_count": null,
   "metadata": {},
   "outputs": [],
   "source": [
    "model.remove_dem()"
   ]
  },
  {
   "cell_type": "code",
   "execution_count": null,
   "metadata": {
    "scrolled": true
   },
   "outputs": [],
   "source": [
    "print(\"Metabolites: \", len(model.metabolites()), \"\\nReactions: \", len(model.reactions()))\n"
   ]
  },
  {
   "cell_type": "markdown",
   "metadata": {},
   "source": [
    "### Dead reactions\n",
    "\n",
    "Dead reactions are those reactions with upper and lower flux equal to zero.\n",
    "\n",
    "#### Finding Dead reactions\n",
    "\n",
    "Dead reactions of the model are calculated with the method ```dead_reactions()```, which returns a list of [cobra.core.reactions](https://cobrapy.readthedocs.io/en/latest/getting_started.html#Reactions) with dead reactions."
   ]
  },
  {
   "cell_type": "code",
   "execution_count": null,
   "metadata": {},
   "outputs": [],
   "source": [
    "model.dead_reactions()"
   ]
  },
  {
   "cell_type": "markdown",
   "metadata": {},
   "source": [
    "### Chokepoint reactions\n",
    "\n",
    "[Chokepoint reactions](https://www.ncbi.nlm.nih.gov/pmc/articles/PMC2174424/) are those reactions that are the only consumer or producer of a given metabolite that isn't a dead-end metabolite. "
   ]
  },
  {
   "cell_type": "markdown",
   "metadata": {},
   "source": [
    "#### Finding chokepoint reactions\n",
    "\n",
    "Chokepoint reactions are calculated with the method ```find_chokepoints()```. The method ```chokepoints()``` returns a list of tuples of types ([cobra.core.reactions](https://cobrapy.readthedocs.io/en/latest/getting_started.html#Reactions), [cobra.core.metabolites](https://cobrapy.readthedocs.io/en/latest/getting_started.html#Metabolites)) representing a chokepoint reactions object and the metabolite it only produces/consumes."
   ]
  },
  {
   "cell_type": "code",
   "execution_count": null,
   "metadata": {
    "scrolled": true
   },
   "outputs": [],
   "source": [
    "# Read initial model again\n",
    "model = MetabolicModel(CobraMetabolicModel(\"aureus.xml\"))\n",
    "\n",
    "model.find_chokepoints()\n",
    "model.chokepoints()"
   ]
  },
  {
   "cell_type": "markdown",
   "metadata": {},
   "source": [
    "Dead reactions can be excluded from the computation of chokepoints with the ```exclude_dead_reactions=True``` parameter. This is strongly recommended as dead reactions are considered forward reactions by default an this can lead to misinterpretations."
   ]
  },
  {
   "cell_type": "code",
   "execution_count": null,
   "metadata": {},
   "outputs": [],
   "source": [
    "model.find_chokepoints(exclude_dead_reactions=True)\n",
    "model.chokepoints()"
   ]
  },
  {
   "cell_type": "markdown",
   "metadata": {},
   "source": [
    "Chokepoint reactions can also be printed on the command line with ```print_chokepoints```."
   ]
  },
  {
   "cell_type": "code",
   "execution_count": null,
   "metadata": {},
   "outputs": [],
   "source": [
    "model.print_chokepoints()"
   ]
  },
  {
   "cell_type": "markdown",
   "metadata": {},
   "source": [
    "### Flux Balance Analysis\n",
    "\n",
    "[Flux Balance Analysis (FBA)](https://www.ncbi.nlm.nih.gov/pmc/articles/PMC3108565/) is a mathematical procedure used to calculate the growth rate of a metabolic model considering a objective function to maximize and the reactions flux as constraints.\n",
    "\n",
    "The method ```get_growth()``` calculates the objective value (growth rate) that maximizes the objective function. This method uses [cobra.core.model.slim_optimize](https://cobrapy.readthedocs.io/en/latest/autoapi/cobra/core/model/index.html?highlight=slim#cobra.core.model.Model.slim_optimize) and was obtained from [cobra.flux_analysis.deletion](https://cobrapy.readthedocs.io/en/latest/_modules/cobra/flux_analysis/deletion.html#_get_growth). \n",
    "\n",
    "The objective value obtained with FBA can be accesed with ```objective_value()```."
   ]
  },
  {
   "cell_type": "code",
   "execution_count": null,
   "metadata": {},
   "outputs": [],
   "source": [
    "model.get_growth()\n",
    "model.objective_value()"
   ]
  },
  {
   "cell_type": "markdown",
   "metadata": {},
   "source": [
    "The objective function that is maximized during FBA can be accesed by ```objective()```"
   ]
  },
  {
   "cell_type": "code",
   "execution_count": null,
   "metadata": {},
   "outputs": [],
   "source": [
    "model.objective()"
   ]
  },
  {
   "cell_type": "markdown",
   "metadata": {},
   "source": [
    "This objective function can be changed by another reaction of the model with ```set_objective()```. This method receives the id of the reaction that will be set as the new objective value."
   ]
  },
  {
   "cell_type": "code",
   "execution_count": null,
   "metadata": {},
   "outputs": [],
   "source": [
    "model.set_objective(\"DHAD1\")\n",
    "model.objective()"
   ]
  },
  {
   "cell_type": "markdown",
   "metadata": {},
   "source": [
    "### Flux Variability Analysis\n",
    "\n",
    "[Flux Vatiability Analysis (FVA)](https://bmcbioinformatics.biomedcentral.com/articles/10.1186/1471-2105-11-489) is a mathematical procedure used to calculate the ''minimum and maximum flux for reactions in the network while maintaining some state of the network, e.g., supporting 90% of maximal possible biomass production rate''.\n",
    "\n",
    "The method ```fva()``` runs Flux Variability Analysis on the model. This method runs [cobra.flux_analysis.variability](https://cobrapy.readthedocs.io/en/latest/autoapi/cobra/flux_analysis/variability/index.html?highlight=flux_varia#cobra.flux_analysis.variability.flux_variability_analysis) and as so it allows the same parameters (see the previous link):   \n",
    "  - **loopless**: (default False) return only loopless solutions.   \n",
    "  - **threshold**: (float default None. In cobrapy 'fraction_of_optimum'): Requires that the objective value is at least the fraction times maximum objective value.   \n",
    "  - **pfba_factor**: (float default None) the total sum of absolute fluxes must not be larger than this value times the smallest possible sum of absolute fluxes.\n",
    "\n",
    "An extra parameter:   \n",
    "  - **verbose**: (default False) if True prints on the command line the result of FVA while running the analysis.\n",
    "\n",
    "Method ```fva()``` returns an error list if there was an error while running FVA or an empty list ```[]``` otherwise. "
   ]
  },
  {
   "cell_type": "code",
   "execution_count": null,
   "metadata": {},
   "outputs": [],
   "source": [
    "model.fva(threshold=0.95)"
   ]
  },
  {
   "cell_type": "code",
   "execution_count": null,
   "metadata": {},
   "outputs": [],
   "source": [
    "model.fva(threshold=0.95, verbose=True)"
   ]
  },
  {
   "cell_type": "markdown",
   "metadata": {},
   "source": [
    "The result obtained with FVA can be accesed with ```get_fva()```. This method returns a list of tuples: ([cobra.core.reaction](https://cobrapy.readthedocs.io/en/latest/getting_started.html#Reactions), \\[float\\] maximum flux, \\[float\\] minimum flux)"
   ]
  },
  {
   "cell_type": "code",
   "execution_count": null,
   "metadata": {},
   "outputs": [],
   "source": [
    "model.get_fva()"
   ]
  },
  {
   "cell_type": "markdown",
   "metadata": {},
   "source": [
    "#### Updating reaction's flux with FVA\n",
    "\n",
    "**findCritical** adds an extra parameter to this method which is ```update_flux```. If ```True``` the method ```fva()``` updates the model reaction's flux with the maximum and minimum flux values obtained with FVA (see the example below)."
   ]
  },
  {
   "cell_type": "code",
   "execution_count": null,
   "metadata": {},
   "outputs": [],
   "source": [
    "# Print initial reactions of the model with initial flux values.\n",
    "model.print_reactions()"
   ]
  },
  {
   "cell_type": "code",
   "execution_count": null,
   "metadata": {},
   "outputs": [],
   "source": [
    "# Update reactions flux values with FVA\n",
    "model.fva(update_flux=True)"
   ]
  },
  {
   "cell_type": "code",
   "execution_count": null,
   "metadata": {
    "scrolled": false
   },
   "outputs": [],
   "source": [
    "# Print reactions of the model with refined reactions flux values.\n",
    "model.print_reactions()"
   ]
  },
  {
   "cell_type": "markdown",
   "metadata": {},
   "source": [
    "### Essential genes\n",
    "\n",
    "[Essential genes](https://link.springer.com/chapter/10.1007/978-3-642-36546-1_43) are those genes that cause a zero growth rate when knocked out.\n",
    "\n",
    "#### Finding essential genes\n",
    "\n",
    "Essential genes are calculated with the method ```find_essential_genes_1()```. This method returns an error list if there was an error during the computing or an empty list ```[]``` otherwise."
   ]
  },
  {
   "cell_type": "code",
   "execution_count": null,
   "metadata": {
    "scrolled": true
   },
   "outputs": [],
   "source": [
    "model.find_essential_genes_1()"
   ]
  },
  {
   "cell_type": "markdown",
   "metadata": {},
   "source": [
    "If essential genes were computed with the method above, they can be accesed with ```essential_genes()```. This method return a list of [cobra.core.gene](https://cobrapy.readthedocs.io/en/latest/getting_started.html#Genes) with essential genes."
   ]
  },
  {
   "cell_type": "code",
   "execution_count": null,
   "metadata": {
    "scrolled": true
   },
   "outputs": [],
   "source": [
    "model.essential_genes()"
   ]
  },
  {
   "cell_type": "markdown",
   "metadata": {},
   "source": [
    "### Essential reactions\n",
    "\n",
    "Essential reactions are those genes that cause a zero growth rate when knocked out.\n",
    "\n",
    "#### Finding essential reactions\n",
    "\n",
    "Essential reactions are calculated with the method ```find_essential_reactions_1()```. This method returns an error list if there was an error during the computing or an empty list ```[]``` otherwise."
   ]
  },
  {
   "cell_type": "code",
   "execution_count": null,
   "metadata": {},
   "outputs": [],
   "source": [
    "model.find_essential_reactions_1()"
   ]
  },
  {
   "cell_type": "markdown",
   "metadata": {},
   "source": [
    "If essential genes were computed with the method above, they can be accesed with ```essential_reactions()```. This method return a ```dict``` with keys [cobra.core.reaction](https://cobrapy.readthedocs.io/en/latest/getting_started.html#Reactions) with all the reactions of the model, and values ```float``` with the result of computing FBA with the reaction knocked-out.\n"
   ]
  },
  {
   "cell_type": "code",
   "execution_count": null,
   "metadata": {
    "scrolled": true
   },
   "outputs": [],
   "source": [
    "model.essential_reactions()"
   ]
  },
  {
   "cell_type": "markdown",
   "metadata": {},
   "source": [
    "### Essential genes reactions\n",
    "\n",
    "Essential genes reactions are those reactions that are knocked-out when an essential gene is knocked-out.\n",
    "\n",
    "#### Finding essential genes reactions\n",
    "\n",
    "Essential genes reactions are calculated with the method ```find_essential_genes_reactions()```. This method returns an error list if there was an error during the computing or an empty list ```[]``` otherwise."
   ]
  },
  {
   "cell_type": "code",
   "execution_count": null,
   "metadata": {},
   "outputs": [],
   "source": [
    "model.find_essential_genes_reactions()"
   ]
  },
  {
   "cell_type": "markdown",
   "metadata": {},
   "source": [
    "If essential genes reactions were computed with the method above, they can be accesed with ```essential_genes_reactions()```. This method returns a ```dict``` with keys [cobra.core.reaction](https://cobrapy.readthedocs.io/en/latest/getting_started.html#Reactions) with all the reactions of the model, and values a ```list``` of [cobra.core.genes](https://cobrapy.readthedocs.io/en/latest/getting_started.html#Genes) with the essential genes that cause the knock-out of the reaction.\n"
   ]
  },
  {
   "cell_type": "code",
   "execution_count": null,
   "metadata": {},
   "outputs": [],
   "source": [
    "model.essential_genes_reactions()"
   ]
  },
  {
   "cell_type": "markdown",
   "metadata": {},
   "source": [
    "## 2. FacadeUtils\n",
    "\n",
    "The module ```FacadeUtils``` from ```findCPcore``` provides specific methods for the generation of spreadsheet regarging the computation of chokepoint reactions taking into account Flux Variability Anañysis and Dead End Metabolites."
   ]
  },
  {
   "cell_type": "markdown",
   "metadata": {},
   "source": [
    "### Import FacadeUtils modules\n",
    "\n",
    "Import the module"
   ]
  },
  {
   "cell_type": "code",
   "execution_count": null,
   "metadata": {},
   "outputs": [],
   "source": [
    "from findCPcore import FacadeUtils"
   ]
  },
  {
   "cell_type": "markdown",
   "metadata": {},
   "source": [
    "### Generate chokepoint summary spreadsheet\n",
    "\n",
    "The method ```run_summary_model``` generates a spreadsheet file from a model file with the following data:\n",
    "  - List of metabolites of the model.\n",
    "  - List of reactions of the model.\n",
    "  - List of genes of the model.\n",
    "  - Upper and lower flux bound of each reaction obtained with Flux Variability Analysis.\n",
    "  - Upper and lower flux bound of each reaction obtained with Flux Variability Analysis grouped by metabolite.\n",
    "  - List of reversible reactions of the model before and after Flux Variability Analysis refinement (see [refinement](#### Updating reaction's flux with FVA)).\n",
    "  - List of Dead End Metabolites before and after FVA refinement.\n",
    "  - For the following models:\n",
    "    - Initial model\n",
    "    - Model without DEM\n",
    "    - Model refined with FVA.\n",
    "    - Model refined with FVA and with DEM removed.\n",
    "  - The following set of assests is computed for each and included in one sheet:\n",
    "    - List of chokepoint reactions with the metabolite they produce/consume.\n",
    "    - List of essential genes of the models.\n",
    "    - List of essential reactions of the models.\n",
    "    - Comparison of chokepoint reactions, essential reactions and essentual gene reactions. \n",
    "  - Summary comparing the size of the previous sets and their intersections.\n",
    "  \n",
    "**Method declaration:** \n",
    "\n",
    "```run_summary_model(self, model_path, print_f, arg1, arg2, objective=None, fraction=1.0)```\n",
    "\n",
    "**Parameters:**\n",
    "  - ```model_path```: Path of the SBML metabolic model file.\n",
    "  - ```print_f```: Callback function to inform  of the computation progession. The function must have a declaration like the following:\n",
    "    - ``` custom_function_name(message, arg1, arg2) ```\n",
    "  - ```arg1```: First parameter to pass to the function if any.\n",
    "  - ```arg2```: Second parameter to pass to the function if any.\n",
    "  - ```objective```: Reactions id to be used as objective function.\n",
    "  - ```fraction```: Fraction of optmimum to be used with FVA."
   ]
  },
  {
   "cell_type": "code",
   "execution_count": null,
   "metadata": {},
   "outputs": [],
   "source": [
    "def callback_print_ignore(message, arg1, arg2):\n",
    "    pass\n",
    "\n",
    "def callback_print_logger(message, arg1, arg2):\n",
    "    logger = arg1\n",
    "    logger.info(message)\n",
    "    \n",
    "def callback_print(message, arg1, arg2):\n",
    "    print(arg1 + message)\n",
    "\n",
    "facadeUtils = FacadeUtils()\n",
    "spreadsheet = facadeUtils.run_summary_model(\"aureus.xml\", callback_print, \"LOG:\", None)\n",
    "facadeUtils.save_spreadsheet(\"output.xls\", spreadsheet)"
   ]
  },
  {
   "cell_type": "markdown",
   "metadata": {},
   "source": [
    "### Generate chokepoint growth sensibility spreadsheet"
   ]
  },
  {
   "cell_type": "markdown",
   "metadata": {},
   "source": [
    "The method ```run_sensibility_analysis``` produces a spreadsheet file from a model file with an analysis of varying rhe values of fraction of optimum with FVA effects on the size of the folloing sets:\n",
    "  - Reversible Reactions (RR)\n",
    "  - Non-reversible Reactions (NR)\n",
    "  - Dead Reactions (DR)\n",
    "  - Chokepoint reactions (CP)\n",
    "\n",
    "**Method declaration**\n",
    "\n",
    "```run_sensibility_analysis(self, model_path, print_f, arg1, arg2, objective=None)```\n",
    "\n",
    "**Parameters:**\n",
    "  - ```model_path```: Path of the SBML metabolic model file.\n",
    "  - ```print_f```: Callback function to inform  of the computation progession. The function must have a declaration like the following:\n",
    "    - ``` custom_function_name(message, arg1, arg2) ```\n",
    "  - ```arg1```: First parameter to pass to the function if any.\n",
    "  - ```arg2```: Second parameter to pass to the function if any.\n",
    "  - ```objective```: Reactions id to be used as objective function."
   ]
  },
  {
   "cell_type": "code",
   "execution_count": null,
   "metadata": {},
   "outputs": [],
   "source": [
    "def callback_print(message, arg1, arg2):\n",
    "    print(message)\n",
    "\n",
    "facadeUtils = FacadeUtils()\n",
    "spreadsheet = facadeUtils.run_sensibility_analysis(\"aureus.xml\", callback_print, None, None)\n",
    "facadeUtils.save_spreadsheet(\"output.xls\", spreadsheet)"
   ]
  },
  {
   "cell_type": "code",
   "execution_count": null,
   "metadata": {},
   "outputs": [],
   "source": []
  }
 ],
 "metadata": {
  "kernelspec": {
   "display_name": "Python 3",
   "language": "python",
   "name": "python3"
  },
  "language_info": {
   "codemirror_mode": {
    "name": "ipython",
    "version": 3
   },
   "file_extension": ".py",
   "mimetype": "text/x-python",
   "name": "python",
   "nbconvert_exporter": "python",
   "pygments_lexer": "ipython3",
   "version": "3.7.9"
  }
 },
 "nbformat": 4,
 "nbformat_minor": 2
}
